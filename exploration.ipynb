{
 "cells": [
  {
   "cell_type": "markdown",
   "id": "a01f1530",
   "metadata": {},
   "source": [
    "# Voice processor PoC\n",
    "\n",
    "## Goal\n",
    "\n",
    "Give back to Lucas free time by automatically processing his voice notes and turning them into feedbacks to kart drivers\n",
    "\n",
    "## Estimated process\n",
    "\n",
    "Inputs:\n",
    "\n",
    "- Voice recorded feedbacks splitted by (1) race and (2) turn\n",
    "- PDF with race results to identify drivers by their kart number\n",
    "\n",
    "Processing:\n",
    "\n",
    "- Create the race in the database\n",
    "- Create the driver/kart record in the database\n",
    "- Transform \"raw\" voice feedback into text and store it in the database\n",
    "- Split the feedbacks by driver and turn\n",
    "\n",
    "Outputs:\n",
    "\n",
    "- Generate a nice feedback in text format to be sent via WhatsApp\n",
    "- Generate a nice audio recorded feedback to be sent via WhatsApp\n"
   ]
  }
 ],
 "metadata": {
  "language_info": {
   "name": "python"
  }
 },
 "nbformat": 4,
 "nbformat_minor": 5
}
