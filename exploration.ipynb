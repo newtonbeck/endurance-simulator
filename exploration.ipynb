{
 "cells": [
  {
   "cell_type": "markdown",
   "id": "a01f1530",
   "metadata": {},
   "source": [
    "## Voice processor PoC\n",
    "\n",
    "### Goal\n",
    "\n",
    "Give back to Lucas free time by automatically processing his voice notes and turning them into feedbacks to kart drivers\n",
    "\n",
    "### Estimated process\n",
    "\n",
    "Inputs:\n",
    "\n",
    "- Voice recorded feedbacks splitted by (1) race and (2) turn\n",
    "- PDF with race results to identify drivers by their kart number\n",
    "\n",
    "Processing:\n",
    "\n",
    "- Create the driver/kart number/position record in memory\n",
    "- Transform \"raw\" voice feedback into text and store it in the database\n",
    "- Split the feedbacks by driver and turn\n",
    "\n",
    "Outputs:\n",
    "\n",
    "- Generate a nice feedback in text format to be sent via WhatsApp\n",
    "- Generate a nice audio recorded feedback to be sent via WhatsApp\n"
   ]
  },
  {
   "cell_type": "markdown",
   "id": "c73a209c",
   "metadata": {},
   "source": [
    "## Step 1\n",
    "\n",
    "Process PDF"
   ]
  },
  {
   "cell_type": "code",
   "execution_count": 27,
   "id": "f0c67485",
   "metadata": {},
   "outputs": [],
   "source": [
    "from dataclasses import dataclass\n",
    "\n",
    "@dataclass\n",
    "class Driver:\n",
    "    position: int\n",
    "    kart_number: int\n",
    "    name: str\n"
   ]
  },
  {
   "cell_type": "code",
   "execution_count": 38,
   "id": "f127c342",
   "metadata": {},
   "outputs": [
    {
     "name": "stdout",
     "output_type": "stream",
     "text": [
      "[Driver(position=1, kart_number=137, name='EMILIO DE SOUZA AMADEI BERIN...'), Driver(position=2, kart_number=144, name='JULIO RIBEIRO'), Driver(position=3, kart_number=164, name='THIAGO OLIVEIRA'), Driver(position=4, kart_number=107, name='Luis Caceres'), Driver(position=5, kart_number=143, name='EMILIO S A BERINGHS PAI'), Driver(position=6, kart_number=147, name='Guiga Guilherme Rodrigues'), Driver(position=7, kart_number=140, name='RODRIGO FERNANDES FARIA'), Driver(position=8, kart_number=126, name='Lucas Prates'), Driver(position=9, kart_number=156, name='Carlos Sampaio'), Driver(position=10, kart_number=142, name='ANDRÉ LA ROCCA'), Driver(position=11, kart_number=136, name='GERALDO MAGELA JACINTO'), Driver(position=12, kart_number=116, name='CLAUDEMIR SILVEIRA MAGNO'), Driver(position=13, kart_number=167, name='Newton Angelini')]\n"
     ]
    }
   ],
   "source": [
    "from pathlib import Path\n",
    "import PyPDF2\n",
    "\n",
    "# Define race name\n",
    "race_name = \"Tabajara 1\"\n",
    "drivers = []\n",
    "\n",
    "# Find PDF file in data directory\n",
    "race_dir = Path(f\"data/input/{race_name}\")\n",
    "pdf_files = list(race_dir.glob(\"*.pdf\"))\n",
    "\n",
    "if not pdf_files:\n",
    "    print(f\"No PDF files found in {race_dir}\")\n",
    "else:\n",
    "    pdf_path = pdf_files[0]\n",
    "\n",
    "    with open(pdf_path, 'rb') as file:\n",
    "        reader = PyPDF2.PdfReader(file)\n",
    "        first_page = reader.pages[0]\n",
    "        text = first_page.extract_text().split(\"UF\")[1]\n",
    "\n",
    "        for line in text.split('MG'):\n",
    "            if line.strip():\n",
    "                parts = line.split(\" \")\n",
    "\n",
    "                if parts[0] == \"\\nMelhor\":\n",
    "                    break\n",
    "\n",
    "                position = int(parts[0])\n",
    "                kart_number = int(parts[1])\n",
    "                driver_name = \" \".join(parts[2:len(parts)-9]).replace(\"\\n\", \"\")\n",
    "                driver = Driver(position=position, kart_number=kart_number, name=driver_name)\n",
    "                drivers.append(driver)\n",
    "\n",
    "print(drivers)\n"
   ]
  }
 ],
 "metadata": {
  "kernelspec": {
   "display_name": "venv",
   "language": "python",
   "name": "python3"
  },
  "language_info": {
   "codemirror_mode": {
    "name": "ipython",
    "version": 3
   },
   "file_extension": ".py",
   "mimetype": "text/x-python",
   "name": "python",
   "nbconvert_exporter": "python",
   "pygments_lexer": "ipython3",
   "version": "3.9.6"
  }
 },
 "nbformat": 4,
 "nbformat_minor": 5
}
