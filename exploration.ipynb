{
 "cells": [
  {
   "cell_type": "markdown",
   "id": "a01f1530",
   "metadata": {},
   "source": [
    "## Voice processor PoC\n",
    "\n",
    "### Goal\n",
    "\n",
    "Give back to Lucas free time by automatically processing his voice notes and turning them into feedbacks to kart drivers\n",
    "\n",
    "### Estimated process\n",
    "\n",
    "Inputs:\n",
    "\n",
    "- Voice recorded feedbacks splitted by (1) race and (2) turn\n",
    "- PDF with race results to identify drivers by their kart number\n",
    "\n",
    "Processing:\n",
    "\n",
    "- Create the driver/kart number/position record in memory\n",
    "- Transform \"raw\" voice feedback into text and store it in the database\n",
    "- Split the feedbacks by driver and turn\n",
    "\n",
    "Outputs:\n",
    "\n",
    "- Generate a nice feedback in text format to be sent via WhatsApp\n",
    "- Generate a nice audio recorded feedback to be sent via WhatsApp\n"
   ]
  },
  {
   "cell_type": "markdown",
   "id": "c73a209c",
   "metadata": {},
   "source": [
    "## Step 1\n",
    "\n",
    "Process PDF"
   ]
  },
  {
   "cell_type": "code",
   "execution_count": 27,
   "id": "f0c67485",
   "metadata": {},
   "outputs": [],
   "source": [
    "from dataclasses import dataclass\n",
    "\n",
    "@dataclass\n",
    "class Driver:\n",
    "    position: int\n",
    "    kart_number: int\n",
    "    name: str\n"
   ]
  },
  {
   "cell_type": "code",
   "execution_count": 40,
   "id": "f127c342",
   "metadata": {},
   "outputs": [
    {
     "name": "stdout",
     "output_type": "stream",
     "text": [
      "[Driver(position=1, kart_number=137, name='EMILIO DE SOUZA AMADEI BERIN...'), Driver(position=2, kart_number=144, name='JULIO RIBEIRO'), Driver(position=3, kart_number=164, name='THIAGO OLIVEIRA'), Driver(position=4, kart_number=107, name='Luis Caceres'), Driver(position=5, kart_number=143, name='EMILIO S A BERINGHS PAI'), Driver(position=6, kart_number=147, name='Guiga Guilherme Rodrigues'), Driver(position=7, kart_number=140, name='RODRIGO FERNANDES FARIA'), Driver(position=8, kart_number=126, name='Lucas Prates'), Driver(position=9, kart_number=156, name='Carlos Sampaio'), Driver(position=10, kart_number=142, name='ANDRÉ LA ROCCA'), Driver(position=11, kart_number=136, name='GERALDO MAGELA JACINTO'), Driver(position=12, kart_number=116, name='CLAUDEMIR SILVEIRA MAGNO'), Driver(position=13, kart_number=167, name='Newton Angelini')]\n"
     ]
    }
   ],
   "source": [
    "from pathlib import Path\n",
    "import PyPDF2\n",
    "\n",
    "# Define race name\n",
    "race_name = \"Tabajara 1\"\n",
    "drivers = []\n",
    "\n",
    "# Find PDF file in data directory\n",
    "race_dir = Path(f\"data/input/{race_name}\")\n",
    "pdf_files = list(race_dir.glob(\"*.pdf\"))\n",
    "\n",
    "if not pdf_files:\n",
    "    print(f\"No PDF files found in {race_dir}\")\n",
    "else:\n",
    "    pdf_path = pdf_files[0]\n",
    "\n",
    "    with open(pdf_path, 'rb') as file:\n",
    "        reader = PyPDF2.PdfReader(file)\n",
    "        first_page = reader.pages[0]\n",
    "        text = first_page.extract_text().split(\"UF\")[1]\n",
    "\n",
    "        for line in text.split('MG'):\n",
    "            if line.strip():\n",
    "                parts = line.split(\" \")\n",
    "\n",
    "                if parts[0] == \"\\nMelhor\":\n",
    "                    break\n",
    "\n",
    "                position = int(parts[0])\n",
    "                kart_number = int(parts[1])\n",
    "                driver_name = \" \".join(parts[2:len(parts)-9]).replace(\"\\n\", \"\")\n",
    "                driver = Driver(position=position, kart_number=kart_number, name=driver_name)\n",
    "                drivers.append(driver)\n",
    "\n",
    "print(drivers)\n"
   ]
  },
  {
   "cell_type": "markdown",
   "id": "a7881b11",
   "metadata": {},
   "source": [
    "## Step 2\n",
    "\n",
    "Speech to text, first convert the .opus files to .ogg files"
   ]
  },
  {
   "cell_type": "code",
   "execution_count": 42,
   "id": "6972a0a5",
   "metadata": {},
   "outputs": [
    {
     "name": "stderr",
     "output_type": "stream",
     "text": [
      "ffmpeg version 7.1.1 Copyright (c) 2000-2025 the FFmpeg developers\n",
      "  built with Apple clang version 17.0.0 (clang-1700.0.13.3)\n",
      "  configuration: --prefix=/opt/homebrew/Cellar/ffmpeg/7.1.1_3 --enable-shared --enable-pthreads --enable-version3 --cc=clang --host-cflags= --host-ldflags='-Wl,-ld_classic' --enable-ffplay --enable-gnutls --enable-gpl --enable-libaom --enable-libaribb24 --enable-libbluray --enable-libdav1d --enable-libharfbuzz --enable-libjxl --enable-libmp3lame --enable-libopus --enable-librav1e --enable-librist --enable-librubberband --enable-libsnappy --enable-libsrt --enable-libssh --enable-libsvtav1 --enable-libtesseract --enable-libtheora --enable-libvidstab --enable-libvmaf --enable-libvorbis --enable-libvpx --enable-libwebp --enable-libx264 --enable-libx265 --enable-libxml2 --enable-libxvid --enable-lzma --enable-libfontconfig --enable-libfreetype --enable-frei0r --enable-libass --enable-libopencore-amrnb --enable-libopencore-amrwb --enable-libopenjpeg --enable-libspeex --enable-libsoxr --enable-libzmq --enable-libzimg --disable-libjack --disable-indev=jack --enable-videotoolbox --enable-audiotoolbox --enable-neon\n",
      "  libavutil      59. 39.100 / 59. 39.100\n",
      "  libavcodec     61. 19.101 / 61. 19.101\n",
      "  libavformat    61.  7.100 / 61.  7.100\n",
      "  libavdevice    61.  3.100 / 61.  3.100\n",
      "  libavfilter    10.  4.100 / 10.  4.100\n",
      "  libswscale      8.  3.100 /  8.  3.100\n",
      "  libswresample   5.  3.100 /  5.  3.100\n",
      "  libpostproc    58.  3.100 / 58.  3.100\n",
      "Input #0, ogg, from 'data/input/Tabajara 1/WhatsApp Audio 2025-07-21 at 14.06.49.opus':\n",
      "  Duration: 00:00:23.65, start: 0.006500, bitrate: 14 kb/s\n",
      "  Stream #0:0: Audio: opus, 48000 Hz, mono, fltp\n",
      "Stream mapping:\n",
      "  Stream #0:0 -> #0:0 (opus (native) -> vorbis (libvorbis))\n",
      "Press [q] to stop, [?] for help\n",
      "Output #0, ogg, to 'data/input/Tabajara 1/WhatsApp Audio 2025-07-21 at 14.06.49.ogg':\n",
      "  Metadata:\n",
      "    encoder         : Lavf61.7.100\n",
      "  Stream #0:0: Audio: vorbis, 48000 Hz, mono, fltp\n",
      "      Metadata:\n",
      "        encoder         : Lavc61.19.101 libvorbis\n",
      "[out#0/ogg @ 0x14ff09d80] video:0KiB audio:141KiB subtitle:0KiB other streams:0KiB global headers:3KiB muxing overhead: 3.804088%\n",
      "size=     146KiB time=00:00:23.63 bitrate=  50.7kbits/s speed= 253x    \n"
     ]
    }
   ],
   "source": [
    "import ffmpeg\n",
    "\n",
    "# Find opus files in race directory\n",
    "opus_files = list(race_dir.glob(\"*.opus\"))\n",
    "\n",
    "if not opus_files:\n",
    "    print(f\"No opus files found in {race_dir}\")\n",
    "else:\n",
    "    for opus_file in opus_files:\n",
    "        output_file = opus_file.with_suffix('.ogg')\n",
    "        ffmpeg.input(str(opus_file)).output(str(output_file)).run()\n"
   ]
  },
  {
   "cell_type": "markdown",
   "id": "a96681a5",
   "metadata": {},
   "source": [
    "Send each .ogg file to OpenAI"
   ]
  },
  {
   "cell_type": "code",
   "execution_count": 43,
   "id": "db6d5760",
   "metadata": {},
   "outputs": [
    {
     "name": "stdout",
     "output_type": "stream",
     "text": [
      "Transcribing WhatsApp Audio 2025-07-21 at 14.06.49.ogg...\n",
      "\n",
      "Transcriptions:\n",
      "\n",
      "WhatsApp Audio 2025-07-21 at 14.06.49.ogg:\n",
      "Curva um, kart 167 está freando muito tarde na curva. Kart 147 está freando cedo demais e saindo devagar. 126 está perdendo o ápice da curva.\n"
     ]
    }
   ],
   "source": [
    "import openai\n",
    "from dotenv import load_dotenv\n",
    "\n",
    "load_dotenv()\n",
    "\n",
    "# Find ogg files in race directory\n",
    "ogg_files = list(race_dir.glob(\"*.ogg\"))\n",
    "transcriptions = []\n",
    "\n",
    "if not ogg_files:\n",
    "    print(f\"No ogg files found in {race_dir}\")\n",
    "else:\n",
    "    for ogg_file in ogg_files:\n",
    "        print(f\"Transcribing {ogg_file.name}...\")\n",
    "        \n",
    "        # Open and read the audio file\n",
    "        with open(ogg_file, \"rb\") as audio_file:\n",
    "            # Call OpenAI API for speech-to-text\n",
    "            transcript = openai.audio.transcriptions.create(\n",
    "                model=\"gpt-4o-transcribe\",\n",
    "                file=audio_file,\n",
    "                language=\"pt\"\n",
    "            )\n",
    "            \n",
    "            transcriptions.append({\n",
    "                \"file\": ogg_file.name,\n",
    "                \"text\": transcript.text\n",
    "            })\n",
    "\n",
    "print(\"\\nTranscriptions:\")\n",
    "for t in transcriptions:\n",
    "    print(f\"\\n{t['file']}:\")\n",
    "    print(t['text'])\n"
   ]
  }
 ],
 "metadata": {
  "kernelspec": {
   "display_name": "venv",
   "language": "python",
   "name": "python3"
  },
  "language_info": {
   "codemirror_mode": {
    "name": "ipython",
    "version": 3
   },
   "file_extension": ".py",
   "mimetype": "text/x-python",
   "name": "python",
   "nbconvert_exporter": "python",
   "pygments_lexer": "ipython3",
   "version": "3.9.6"
  }
 },
 "nbformat": 4,
 "nbformat_minor": 5
}
